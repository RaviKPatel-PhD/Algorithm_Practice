{
 "cells": [
  {
   "cell_type": "markdown",
   "metadata": {},
   "source": [
    "**Leetcode 1281. Subtract the Product and Sum of Digits of an Integer - Easy**\n",
    "\n",
    "Given an integer number n, return the difference between the product of its digits and the sum of its digits.  \n",
    "\n",
    "Example 1:  \n",
    "Input: n = 234  \n",
    "Output: 15   \n",
    "Explanation:   \n",
    "Product of digits = 2 * 3 * 4 = 24   \n",
    "Sum of digits = 2 + 3 + 4 = 9   \n",
    "Result = 24 - 9 = 15  \n",
    "  \n",
    "Example 2:  \n",
    "Input: n = 4421  \n",
    "Output: 21  \n",
    "Explanation:   \n",
    "Product of digits = 4 * 4 * 2 * 1 = 32  \n",
    "Sum of digits = 4 + 4 + 2 + 1 = 11   \n",
    "Result = 32 - 11 = 21  \n",
    " \n",
    "Constraints:  \n",
    "1 <= n <= 10<sup>5</sup>  \n",
    "\n",
    "[link](https://leetcode.com/problems/subtract-the-product-and-sum-of-digits-of-an-integer/)\n",
    "\n",
    "**Hint 1** You need to iterate over each digit in the number. Integers don't let you do that. There is a simple trick-- convert to string.\n",
    "\n",
    "**Hint 2** Now do this without converting to string. (Use modulus operator)"
   ]
  },
  {
   "cell_type": "code",
   "execution_count": 11,
   "metadata": {
    "ExecuteTime": {
     "end_time": "2019-12-17T06:44:08.879173Z",
     "start_time": "2019-12-17T06:44:08.868204Z"
    }
   },
   "outputs": [],
   "source": [
    " def subtractProductAndSum(n):\n",
    "        \"\"\"\n",
    "        :type n: int\n",
    "        :rtype: int\n",
    "        \"\"\"\n",
    "        n_str = str(n)\n",
    "        dig_product = 1\n",
    "        dig_sum = 0\n",
    "        for i in n_str:\n",
    "            dig_product *= int(i)\n",
    "            dig_sum += int(i)\n",
    "        \n",
    "        return(dig_product-dig_sum)"
   ]
  },
  {
   "cell_type": "markdown",
   "metadata": {},
   "source": [
    "**Leetcode 263. Ugly Number - Easy**\n",
    "\n",
    "Write a program to check whether a given number is an ugly number.  \n",
    "\n",
    "Ugly numbers are positive numbers whose prime factors only include 2, 3, 5.  \n",
    "\n",
    "Example 1:  \n",
    "Input: 6  \n",
    "Output: true  \n",
    "Explanation: 6 = 2 × 3  \n",
    "\n",
    "Example 2:  \n",
    "Input: 8  \n",
    "Output: true  \n",
    "Explanation: 8 = 2 × 2 × 2  \n",
    "\n",
    "Example 3:  \n",
    "Input: 14  \n",
    "Output: false   \n",
    "Explanation: 14 is not ugly since it includes another prime factor 7.  \n",
    "\n",
    "Note:  \n",
    "1 is typically treated as an ugly number.  \n",
    "Input is within the 32-bit signed integer range: [−2<sup>31</sup>,  2<sup>31</sup> − 1].  \n",
    "\n",
    "[link](https://leetcode.com/problems/ugly-number/)\n",
    "\n",
    "**Hint 1** Lets write out the simpliest scenario where a number is 1,2,3 or 5\n",
    "\n",
    "**Hint 2** What kind of loop lets you divide by 2,3 and 5 as many times as possible?"
   ]
  },
  {
   "cell_type": "code",
   "execution_count": 15,
   "metadata": {
    "ExecuteTime": {
     "end_time": "2019-12-17T07:01:07.123697Z",
     "start_time": "2019-12-17T07:01:07.110461Z"
    }
   },
   "outputs": [],
   "source": [
    "def isUgly(num):\n",
    "        \"\"\"\n",
    "        :type num: int\n",
    "        :rtype: bool\n",
    "        \"\"\"\n",
    "        if num in [1,2,3,5]: return(True)\n",
    "        if num <= 0: return(False)\n",
    "        for i in [2,3,5]:\n",
    "            while num % i == 0:\n",
    "                num /= i\n",
    "        if num > 5: return (False)\n",
    "        else: return(True)"
   ]
  },
  {
   "cell_type": "markdown",
   "metadata": {},
   "source": [
    "**Leetcode 202. Happy Number - Easy**\n",
    "\n",
    "Write an algorithm to determine if a number is \"happy\".  \n",
    "  \n",
    "A happy number is a number defined by the following process: Starting with any positive integer, replace the number by the sum of the squares of its digits, and repeat the process until the number equals 1 (where it will stay), or it loops endlessly in a cycle which does not include 1. Those numbers for which this process ends in 1 are happy numbers.\n",
    "\n",
    "Example:  \n",
    "Input: 19  \n",
    "Output: true  \n",
    "Explanation: \n",
    "1<sup>2</sup> + 9<sup>2</sup> = 82  \n",
    "8<sup>2</sup> + 2<sup>2</sup> = 68  \n",
    "6<sup>2</sup> + 8<sup>2</sup> = 100  \n",
    "1<sup>2</sup> + 0<sup>2</sup> + 0<sup>2</sup> = 1  \n",
    "\n",
    "[link](https://leetcode.com/problems/happy-number/)\n",
    "\n",
    "**Hint 1** Use recursion.\n",
    "\n",
    "**Hint 2** Use memoization."
   ]
  },
  {
   "cell_type": "code",
   "execution_count": 28,
   "metadata": {
    "ExecuteTime": {
     "end_time": "2019-12-17T07:51:20.153758Z",
     "start_time": "2019-12-17T07:51:20.142787Z"
    }
   },
   "outputs": [],
   "source": [
    "cache_list = []\n",
    "def isHappy(n):\n",
    "        \"\"\"\n",
    "        :type n: int\n",
    "        :rtype: bool\n",
    "        \"\"\"\n",
    "        temp_list = []\n",
    "        if n == 1:\n",
    "            return(True)\n",
    "        else: \n",
    "            tracker = sum([int(dig)**2 for dig in [i for i in str(n)]]) \n",
    "            if tracker == 1: \n",
    "                return(True)\n",
    "            else: \n",
    "                if tracker in cache_list:\n",
    "                    for i in temp_list:\n",
    "                        cache_list.append(i)\n",
    "                    return(False)\n",
    "                else:\n",
    "                    temp_list.append(tracker)\n",
    "                    return(isHappy(tracker))\n",
    "             "
   ]
  },
  {
   "cell_type": "code",
   "execution_count": null,
   "metadata": {},
   "outputs": [],
   "source": [
    "class Solution(object):\n",
    "        \n",
    "    def isHappyRec(self, cache_list, n):\n",
    "        \"\"\"\n",
    "        :type n: int\n",
    "        :rtype: bool\n",
    "        \"\"\"\n",
    "        #cache_list = [n]\n",
    "        if n == 1:\n",
    "            return(True)\n",
    "        else: \n",
    "            tracker = sum([int(dig)**2 for dig in [i for i in str(n)]]) \n",
    "            if tracker == 1: \n",
    "                return(True)\n",
    "            else: \n",
    "                if tracker in cache_list: \n",
    "                    return(False)\n",
    "                else:\n",
    "                    cache_list.append(tracker)\n",
    "                    return(self.isHappyRec(cache_list, tracker))\n",
    "                \n",
    "    def isHappy(self, n):\n",
    "        cache_list = []\n",
    "        return self.isHappyRec(cache_list, n)"
   ]
  },
  {
   "cell_type": "code",
   "execution_count": null,
   "metadata": {},
   "outputs": [],
   "source": [
    "# Another approach that is even faster\n",
    "def isHappy(self, n: int) -> bool:\n",
    "    def sum_of_digits(n):\n",
    "        total = 0\n",
    "        while n:\n",
    "            total += (n % 10) ** 2\n",
    "            n //= 10\n",
    "        return total\n",
    "\n",
    "    seen = set()\n",
    "    while n != 1:\n",
    "        n = sum_of_digits(n)\n",
    "        if n in seen:\n",
    "            return False\n",
    "        seen.add(n)\n",
    "    return True"
   ]
  },
  {
   "cell_type": "markdown",
   "metadata": {},
   "source": [
    "**Leetcode 1. Two Sum - Easy**\n",
    "\n",
    "Given an array of integers, return indices of the two numbers such that they add up to a specific target.\n",
    "\n",
    "You may assume that each input would have exactly one solution, and you may not use the same element twice.\n",
    "\n",
    "Example:  \n",
    "Given nums = [2, 7, 11, 15], target = 9,  \n",
    "Because nums[0] + nums[1] = 2 + 7 = 9,  \n",
    "return [0, 1].\n",
    "\n",
    "[link](https://leetcode.com/problems/two-sum/)\n",
    "\n",
    "**Hint 1** First do brute force. You should iterate over the list twice.\n",
    "\n",
    "**Hint 2** Can we speed up the search somehow? Use a set or dictionary."
   ]
  },
  {
   "cell_type": "code",
   "execution_count": 5,
   "metadata": {
    "ExecuteTime": {
     "end_time": "2020-01-02T17:13:59.759520Z",
     "start_time": "2020-01-02T17:13:59.746706Z"
    }
   },
   "outputs": [],
   "source": [
    "#Iterative Approach\n",
    "\n",
    "def twoSum(nums, target):\n",
    "    \"\"\"\n",
    "    :type nums: List[int]\n",
    "    :type target: int\n",
    "    :rtype: List[int]\n",
    "    \"\"\"\n",
    "    for i,j in enumerate(nums):\n",
    "        counter = len(nums)-1-i\n",
    "        while counter > 0:\n",
    "            check = j + nums[i+counter]\n",
    "            if check == target:\n",
    "                return([i, i+counter])\n",
    "            if check != target:\n",
    "                counter -= 1"
   ]
  },
  {
   "cell_type": "code",
   "execution_count": 7,
   "metadata": {
    "ExecuteTime": {
     "end_time": "2020-01-02T17:19:45.901676Z",
     "start_time": "2020-01-02T17:19:45.890432Z"
    }
   },
   "outputs": [],
   "source": [
    "# Brute Force\n",
    "\n",
    "def twoSum(nums, target):\n",
    "    \"\"\"\n",
    "    :type nums: List[int]\n",
    "    :type target: int\n",
    "    :rtype: List[int]\n",
    "    \"\"\"\n",
    "    for i in range(len(nums)):\n",
    "        for j in range(i+1, len(nums)):\n",
    "            if nums[i] + nums[j] == target:\n",
    "                return([i,j])"
   ]
  },
  {
   "cell_type": "code",
   "execution_count": 10,
   "metadata": {
    "ExecuteTime": {
     "end_time": "2020-01-02T17:37:08.602732Z",
     "start_time": "2020-01-02T17:37:08.595885Z"
    }
   },
   "outputs": [],
   "source": [
    "# Using dictionary, could also use a set.\n",
    "\n",
    "def twoSum(nums, target):\n",
    "    \"\"\"\n",
    "    :type nums: List[int]\n",
    "    :type target: int\n",
    "    :rtype: List[int]\n",
    "    \"\"\"\n",
    "    values = {}\n",
    "    for i,num in enumerate(nums):\n",
    "        if (target - num) in values.keys():\n",
    "            return(values[target-num],i)\n",
    "        else:\n",
    "            values[num] = i"
   ]
  },
  {
   "cell_type": "markdown",
   "metadata": {
    "ExecuteTime": {
     "end_time": "2020-01-02T17:45:10.835155Z",
     "start_time": "2020-01-02T17:45:10.814874Z"
    }
   },
   "source": [
    "**Leet code 771. Jewels and Stones - Easy**\n",
    "\n",
    "You're given strings J representing the types of stones that are jewels, and S representing the stones you have.  Each character in S is a type of stone you have.  You want to know how many of the stones you have are also jewels.\n",
    "\n",
    "The letters in J are guaranteed distinct, and all characters in J and S are letters. Letters are case sensitive, so \"a\" is considered a different type of stone from \"A\".\n",
    "\n",
    "Example 1:\n",
    "Input: J = \"aA\", S = \"aAAbbbb\"\n",
    "Output: 3\n",
    "\n",
    "Example 2:\n",
    "Input: J = \"z\", S = \"ZZ\"\n",
    "Output: 0\n",
    "\n",
    "Note:\n",
    "S and J will consist of letters and have length at most 50.\n",
    "The characters in J are distinct.\n",
    "\n",
    "[link](https://leetcode.com/problems/jewels-and-stones/description/)\n",
    "\n",
    "**Hint 1** Iterate over the stones."
   ]
  },
  {
   "cell_type": "code",
   "execution_count": 19,
   "metadata": {
    "ExecuteTime": {
     "end_time": "2020-01-02T17:56:25.676190Z",
     "start_time": "2020-01-02T17:56:25.667057Z"
    }
   },
   "outputs": [],
   "source": [
    "def numJewelsInStones(J: str, S: str) -> int:\n",
    "    count = 0\n",
    "    for s in S:\n",
    "        if s in J:\n",
    "            count +=1\n",
    "    return(count)"
   ]
  },
  {
   "cell_type": "code",
   "execution_count": 20,
   "metadata": {
    "ExecuteTime": {
     "end_time": "2020-01-02T17:56:45.272941Z",
     "start_time": "2020-01-02T17:56:45.267523Z"
    }
   },
   "outputs": [
    {
     "data": {
      "text/plain": [
       "3"
      ]
     },
     "execution_count": 20,
     "metadata": {},
     "output_type": "execute_result"
    }
   ],
   "source": [
    "numJewelsInStones('aA', 'aAAbbbbb')"
   ]
  },
  {
   "cell_type": "markdown",
   "metadata": {
    "ExecuteTime": {
     "end_time": "2020-01-02T17:46:49.705711Z",
     "start_time": "2020-01-02T17:46:49.686653Z"
    }
   },
   "source": [
    "**LeetCode 7. Reverse Integer - Easy**\n",
    "\n",
    "Given a 32-bit signed integer, reverse digits of an integer.\n",
    "\n",
    "Example 1:  \n",
    "Input: 123  \n",
    "Output: 321  \n",
    "\n",
    "Example 2:  \n",
    "Input: -123  \n",
    "Output: -321  \n",
    "\n",
    "Example 3:  \n",
    "Input: 120  \n",
    "Output: 21  \n",
    "\n",
    "Note: Assume we are dealing with an environment which could only store integers within the 32-bit signed integer range: [−231,  231 − 1]. For the purpose of this problem, assume that your function returns 0 when the reversed integer overflows.\n",
    "\n",
    "[link](https://leetcode.com/problems/reverse-integer/)\n",
    "\n",
    "**Hint 1** It may be beneficial to use a datatype other than int.\n",
    "\n",
    "**Hint 2** Use a string."
   ]
  },
  {
   "cell_type": "code",
   "execution_count": 30,
   "metadata": {
    "ExecuteTime": {
     "end_time": "2020-01-02T18:07:50.831366Z",
     "start_time": "2020-01-02T18:07:50.808931Z"
    }
   },
   "outputs": [],
   "source": [
    "def reverse(x: int) -> int:\n",
    "    new_int = ''\n",
    "    negative = False\n",
    "    for i in str(x):\n",
    "        if i == '-':\n",
    "            negative = True\n",
    "        else:\n",
    "            new_int = i + new_int\n",
    "    if negative == True:\n",
    "        new_int = '-' + new_int\n",
    "    new_int = int(new_int)\n",
    "    if new_int > pow(2,31) or new_int < pow(-2,31):\n",
    "        return(0)\n",
    "    return(new_int)"
   ]
  },
  {
   "cell_type": "markdown",
   "metadata": {
    "ExecuteTime": {
     "end_time": "2020-01-02T18:08:04.938907Z",
     "start_time": "2020-01-02T18:08:04.916665Z"
    }
   },
   "source": [
    "**LeetCode 9. Palindrome Number - Easy**\n",
    "\n",
    "Determine whether an integer is a palindrome. An integer is a palindrome when it reads the same backward as forward.\n",
    "\n",
    "Example 1:  \n",
    "Input: 121  \n",
    "Output: true  \n",
    "\n",
    "Example 2:  \n",
    "Input: -121  \n",
    "Output: false  \n",
    "Explanation: From left to right, it reads -121. From right to left, it becomes 121-. Therefore it is not a palindrome.  \n",
    "\n",
    "Example 3:  \n",
    "Input: 10  \n",
    "Output: false  \n",
    "Explanation: Reads 01 from right to left. Therefore it is not a palindrome.  \n",
    "\n",
    "Follow up:  \n",
    "Coud you solve it without converting the integer to a string?\n",
    "\n",
    "[link](https://leetcode.com/problems/palindrome-number/)\n",
    "\n",
    "**Hint 1** This problem is quite easy to do if you change everything to a string.\n",
    "\n",
    "**Hint 2** Without converting things to a string. Try to do it. This will require a lot of multiplying and dividing by 10."
   ]
  },
  {
   "cell_type": "code",
   "execution_count": 51,
   "metadata": {
    "ExecuteTime": {
     "end_time": "2020-01-02T18:33:26.922507Z",
     "start_time": "2020-01-02T18:33:26.917516Z"
    }
   },
   "outputs": [],
   "source": [
    "# This answer feels like cheating, but it uses the reverse function from the previous question.\n",
    "def isPalindrome(x: int) -> bool:\n",
    "    if x < 0:\n",
    "        return(False)\n",
    "    return(x == reverse(x))"
   ]
  },
  {
   "cell_type": "code",
   "execution_count": 104,
   "metadata": {
    "ExecuteTime": {
     "end_time": "2020-01-02T19:07:14.724740Z",
     "start_time": "2020-01-02T19:07:14.718753Z"
    }
   },
   "outputs": [],
   "source": [
    "def isPalindrome(x: int) -> bool:\n",
    "    \n",
    "    if x < 0:\n",
    "        return(False)\n",
    "    \n",
    "    if x == 0:\n",
    "            return(True)\n",
    "    \n",
    "    import math\n",
    "    reverse = 0\n",
    "    num_dig = math.floor(math.log10(x))+1\n",
    "    for i in range(1,num_dig+1):\n",
    "        reverse += ((x%pow(10,i))//(pow(10,i-1)))*(pow(10,(num_dig-i)))\n",
    "        print(reverse)\n",
    "    return(reverse == x)\n",
    "    "
   ]
  },
  {
   "cell_type": "code",
   "execution_count": 110,
   "metadata": {
    "ExecuteTime": {
     "end_time": "2020-01-02T19:19:38.459626Z",
     "start_time": "2020-01-02T19:19:38.453642Z"
    }
   },
   "outputs": [],
   "source": [
    "def isPalindrome(x: int) -> bool:\n",
    "        orig = x\n",
    "        back_x = 0\n",
    "        while x > 0:\n",
    "            back_x = (back_x * 10) + (x % 10)\n",
    "            x = x // 10\n",
    "        return orig == back_x"
   ]
  },
  {
   "cell_type": "markdown",
   "metadata": {
    "ExecuteTime": {
     "end_time": "2020-01-02T19:19:38.887475Z",
     "start_time": "2020-01-02T19:19:38.879493Z"
    }
   },
   "source": [
    "**LeetCode 53. Maximum Subarray - Easy**\n",
    "\n",
    "Given an integer array nums, find the contiguous subarray (containing at least one number) which has the largest sum and return its sum.\n",
    "\n",
    "Example:  \n",
    "Input: [-2,1,-3,4,-1,2,1,-5,4],  \n",
    "Output: 6  \n",
    "Explanation: [4,-1,2,1] has the largest sum = 6.  \n",
    "\n",
    "Follow up:  \n",
    "If you have figured out the O(n) solution, try coding another solution using the divide and conquer approach, which is more subtle.\n",
    "\n",
    "[link](https://leetcode.com/problems/maximum-subarray/)\n",
    "\n",
    "**Hint 1** The O(N) solution is not too difficult to figure out. Just iterate through the list once. You will summ the values as you go and either realize that the current number is bigger than the rolling sum plus the number in which case you can restart the rolling sum. You can also keep track of the max sum while doing this. "
   ]
  },
  {
   "cell_type": "code",
   "execution_count": 123,
   "metadata": {
    "ExecuteTime": {
     "end_time": "2020-01-02T20:04:33.953062Z",
     "start_time": "2020-01-02T20:04:33.948067Z"
    }
   },
   "outputs": [],
   "source": [
    "def maxSubArray(N: list) -> int:\n",
    "    Len, pos, Max = len(N), 0, max(N)\n",
    "    while pos < L:\n",
    "        a_sum, i = 0, pos\n",
    "        for pos in range(i,Len):\n",
    "            a_sum = a_sum + N[pos]\n",
    "            if a_sum < 0: \n",
    "                break\n",
    "            if a_sum > Max: \n",
    "                Max = a_sum\n",
    "    return Max"
   ]
  },
  {
   "cell_type": "code",
   "execution_count": null,
   "metadata": {},
   "outputs": [],
   "source": [
    "def maxSubArray(self, nums: List[int]) -> int:\n",
    "    dp = 0\n",
    "    maxSum = None\n",
    "    for n in nums:\n",
    "        dp = max(dp+n, n)\n",
    "        if maxSum is None or dp > maxSum:\n",
    "            maxSum = dp\n",
    "    return maxSum"
   ]
  },
  {
   "cell_type": "markdown",
   "metadata": {
    "ExecuteTime": {
     "end_time": "2020-01-02T19:47:52.564385Z",
     "start_time": "2020-01-02T19:47:52.558379Z"
    }
   },
   "source": [
    "**LeetCode 2. Add Two Numbers - Medium**\n",
    "\n",
    "You are given two non-empty linked lists representing two non-negative integers. The digits are stored in reverse order and each of their nodes contain a single digit. Add the two numbers and return it as a linked list.\n",
    "\n",
    "You may assume the two numbers do not contain any leading zero, except the number 0 itself.\n",
    "\n",
    "Example:\n",
    "\n",
    "Input: (2 -> 4 -> 3) + (5 -> 6 -> 4)\n",
    "Output: 7 -> 0 -> 8\n",
    "Explanation: 342 + 465 = 807.\n",
    "\n",
    "[link](https://leetcode.com/problems/add-two-numbers/)\n",
    "\n",
    "**Hint 1** This problem is easier if you break it up into smaller problems. First make a function to traverse a linked list and return a number. Next make a function to turn a number into a linked list. Now make a function to add two linked lists and return another linked list.\n",
    "\n",
    "**Hint 2**  If the reversing is ther tricky part, just ignore that and add that functionality later. "
   ]
  },
  {
   "cell_type": "code",
   "execution_count": 8,
   "metadata": {
    "ExecuteTime": {
     "end_time": "2020-02-10T04:42:40.992563Z",
     "start_time": "2020-02-10T04:42:40.971252Z"
    }
   },
   "outputs": [],
   "source": [
    "# Definition for singly-linked list.\n",
    "class ListNode:\n",
    "    def __init__(self, x):\n",
    "        self.val = x\n",
    "        self.next = None\n",
    "\n",
    "# def findval(l1:ListNode) -> int:\n",
    "#     counter = 1\n",
    "#     value = l1.val\n",
    "#     while l1.next != none:\n",
    "#         value += l1.next.val*pow(10,counter)\n",
    "#         count += 1\n",
    "#     return(value)\n",
    "    \n",
    "    \n",
    "def addTwoNumbers(l1: ListNode, l2: ListNode) -> ListNode:\n",
    "    \n",
    "    leftover = 0\n",
    "    \n",
    "    if l1.val != None and l2.val != None:\n",
    "        root = l1.val + l2.val\n",
    "        if root > 9:\n",
    "            l3 = ListNode(root%10)\n",
    "            leftover = root//10\n",
    "        else:\n",
    "            l3 = ListNode(root)\n",
    "    elif l1.val != None:\n",
    "        return l1\n",
    "    else:\n",
    "        return l2\n",
    "    \n",
    "    l1 = l1.next\n",
    "    l2 = l2.next\n",
    "    current_node = l3\n",
    "    \n",
    "    while l1 != None and l2 != None:\n",
    "        node_val = leftover + l1.val + l2.val\n",
    "        leftover = 0\n",
    "        \n",
    "        if node_val > 9:\n",
    "            current_node.next = ListNode(node_val%10)\n",
    "            leftover = node_val//10\n",
    "            current_node = current_node.next\n",
    "            l1 = l1.next\n",
    "            l2 = l2.next\n",
    "        else:\n",
    "            current_node.next = ListNode(node_val)\n",
    "            current_node = current_node.next\n",
    "            l1 = l1.next\n",
    "            l2 = l2.next\n",
    "    \n",
    "    while l1 != None:\n",
    "        node_val = l1.val + leftover\n",
    "        leftover = 0\n",
    "        current_node.next = ListNode(node_val%10)\n",
    "        leftover = node_val//10\n",
    "        current_node = current_node.next\n",
    "        l1 = l1.next\n",
    "        \n",
    "    while l2 != None:\n",
    "        node_val = l2.val + leftover\n",
    "        leftover = 0\n",
    "        current_node.next = ListNode(node_val%10)\n",
    "        leftover = node_val//10\n",
    "        current_node = current_node.next\n",
    "        l2 = l2.next\n",
    "        \n",
    "    if leftover != 0:\n",
    "        current_node.next = ListNode(leftover)\n",
    "        \n",
    "    return l3\n",
    "       \n",
    "    "
   ]
  },
  {
   "cell_type": "code",
   "execution_count": 9,
   "metadata": {
    "ExecuteTime": {
     "end_time": "2020-02-10T04:42:41.766724Z",
     "start_time": "2020-02-10T04:42:41.752759Z"
    }
   },
   "outputs": [],
   "source": [
    "def to_num(self, l1) -> int:\n",
    "        n1 = 0\n",
    "        mul = 1\n",
    "        while l1 != None:\n",
    "            n1 = l1.val * mul + n1\n",
    "            mul *= 10\n",
    "            l1 = l1.next\n",
    "        return n1\n",
    "    \n",
    "def to_list(self, s1) -> ListNode:\n",
    "    currentNode = ListNode(s1[0])\n",
    "    l1 = currentNode\n",
    "    s1 = s1[1:]\n",
    "        \n",
    "    while(s1):\n",
    "        currentNode.next = ListNode(s1[0])\n",
    "        currentNode = currentNode.next\n",
    "        s1 = s1[1:]\n",
    "    return l1\n",
    "            \n",
    "def addTwoNumbers(self, l1, l2) -> ListNode:\n",
    "    return self.to_list(str(self.to_num(l1) + self.to_num(l2))[::-1])\n"
   ]
  },
  {
   "cell_type": "markdown",
   "metadata": {},
   "source": [
    "**LeetCode 38. Count and Say - Easy**\n",
    "\n",
    "The count-and-say sequence is the sequence of integers with the first five terms as following:\n",
    "\n",
    "1.     1\n",
    "2.     11\n",
    "3.     21\n",
    "4.     1211\n",
    "5.     111221\n",
    "1 is read off as \"one 1\" or 11.\n",
    "11 is read off as \"two 1s\" or 21.\n",
    "21 is read off as \"one 2, then one 1\" or 1211.\n",
    "\n",
    "Given an integer n where 1 ≤ n ≤ 30, generate the nth term of the count-and-say sequence. You can do so recursively, in other words from the previous member read off the digits, counting the number of digits in groups of the same digit.\n",
    "\n",
    "Note: Each term of the sequence of integers will be represented as a string.\n",
    "\n",
    "Example 1:  \n",
    "Input: 1  \n",
    "Output: \"1\"  \n",
    "Explanation: This is the base case.  \n",
    "\n",
    "Example 2:  \n",
    "Input: 4  \n",
    "Output: \"1211\"  \n",
    "Explanation: For n = 3 the term was \"21\" in which we have two groups \"2\" and \"1\", \"2\" can be read as \"12\" which means frequency = 1 and value = 2, the same way \"1\" is read as \"11\", so the answer is the concatenation of \"12\" and \"11\" which is \"1211\".  \n",
    "\n",
    "[link](https://leetcode.com/problems/count-and-say/)\n",
    "\n",
    "**Hint 1** Start with the base case. Every answer depends on the previous answer. This means you will need to use recusion.\n",
    "\n",
    "**Hint 2** To calculate countAndSay(N) just count and say the answer for N-1"
   ]
  },
  {
   "cell_type": "code",
   "execution_count": 46,
   "metadata": {
    "ExecuteTime": {
     "end_time": "2020-01-04T00:04:52.008380Z",
     "start_time": "2020-01-04T00:04:52.001374Z"
    }
   },
   "outputs": [],
   "source": [
    "def countAndSay(n: int) -> str:\n",
    "    if n == 1:\n",
    "        return(str(1))\n",
    "    if n > 1:\n",
    "        str_n = countAndSay(n-1)\n",
    "        counter = 0\n",
    "        new_num = ''\n",
    "        curr_char = str_n[0]\n",
    "        for i,j in enumerate(str_n):\n",
    "            if j == curr_char:\n",
    "                counter += 1\n",
    "            else:\n",
    "                new_num += str(counter) + str(curr_char)\n",
    "                curr_char = j\n",
    "                counter = 1\n",
    "        new_num += str(counter) + str(curr_char)\n",
    "    return(new_num)"
   ]
  },
  {
   "cell_type": "markdown",
   "metadata": {},
   "source": [
    "**LeetCode 58. Length of Last Word - Easy** \n",
    "\n",
    "Given a string s consists of upper/lower-case alphabets and empty space characters ' ', return the length of last word (last word means the last appearing word if we loop from left to right) in the string.\n",
    "\n",
    "If the last word does not exist, return 0.\n",
    "\n",
    "Note: A word is defined as a maximal substring consisting of non-space characters only.\n",
    "\n",
    "Example:  \n",
    "Input: \"Hello World \"  \n",
    "Output: 5  \n",
    "\n",
    "[link](https://leetcode.com/problems/length-of-last-word/)\n",
    "\n",
    "**Hint 1** You can split the string into a list.\n",
    "\n",
    "**Hint 2** What if there is white space after the last word.\n",
    "\n",
    "**Hint 3** Do it all in one line.\n",
    " "
   ]
  },
  {
   "cell_type": "code",
   "execution_count": 54,
   "metadata": {
    "ExecuteTime": {
     "end_time": "2020-01-04T00:13:10.833648Z",
     "start_time": "2020-01-04T00:13:10.827662Z"
    }
   },
   "outputs": [],
   "source": [
    "def lengthOfLastWord(s: str) -> int:\n",
    "    return(len(s.rstrip().split(' ')[-1]))"
   ]
  },
  {
   "cell_type": "markdown",
   "metadata": {},
   "source": [
    "**LeetCode 69. Sqrt(x) - Easy**\n",
    "\n",
    "Implement int sqrt(int x).\n",
    "\n",
    "Compute and return the square root of x, where x is guaranteed to be a non-negative integer.\n",
    "\n",
    "Since the return type is an integer, the decimal digits are truncated and only the integer part of the result is returned.\n",
    "\n",
    "Example 1:  \n",
    "Input: 4  \n",
    "Output: 2  \n",
    "\n",
    "Example 2:  \n",
    "Input: 8  \n",
    "Output: 2  \n",
    "Explanation: The square root of 8 is 2.82842..., and since \n",
    "             the decimal part is truncated, 2 is returned.\n",
    "             \n",
    "[link](https://leetcode.com/problems/sqrtx/)\n",
    "             "
   ]
  },
  {
   "cell_type": "code",
   "execution_count": 58,
   "metadata": {
    "ExecuteTime": {
     "end_time": "2020-01-04T01:02:41.506583Z",
     "start_time": "2020-01-04T01:02:41.501596Z"
    }
   },
   "outputs": [],
   "source": [
    "def mySqrt(x: int) -> int:\n",
    "    import math\n",
    "    return(int(math.sqrt(x)))"
   ]
  },
  {
   "cell_type": "markdown",
   "metadata": {},
   "source": [
    "**LeetCode 66. Plus One - Easy**\n",
    "\n",
    "Given a non-empty array of digits representing a non-negative integer, plus one to the integer.\n",
    "\n",
    "The digits are stored such that the most significant digit is at the head of the list, and each element in the array contain a single digit.\n",
    "\n",
    "You may assume the integer does not contain any leading zero, except the number 0 itself.\n",
    "\n",
    "Example 1:  \n",
    "Input: [1,2,3]  \n",
    "Output: [1,2,4]  \n",
    "Explanation: The array represents the integer 123.  \n",
    "\n",
    "Example 2:  \n",
    "Input: [4,3,2,1]  \n",
    "Output: [4,3,2,2]  \n",
    "Explanation: The array represents the integer 4321.  \n",
    "\n",
    "[link](https://leetcode.com/problems/plus-one/)\n",
    "\n",
    "**Hint 1** The simplest case is when the last number in the array does not equal 9. Start by coding that.\n",
    "\n",
    "**Hint 2** Now code what happens when you have a 9. You should notice yourself repeating very similiar code. Can you use a recursive solution on a sub array?\n",
    "\n",
    "**Hint 3** What happens when you add one to the first element in an array and its 9?"
   ]
  },
  {
   "cell_type": "code",
   "execution_count": 64,
   "metadata": {
    "ExecuteTime": {
     "end_time": "2020-01-04T19:45:37.367052Z",
     "start_time": "2020-01-04T19:45:37.346458Z"
    }
   },
   "outputs": [],
   "source": [
    "def plusOne(digits):\n",
    "    #Function to add one to an elem of a list\n",
    "    \n",
    "    if digits[-1] < 9:\n",
    "        digits[-1] += 1\n",
    "        return(digits)\n",
    "    elif len(digits) == 1 and digits[0] == 9:\n",
    "        return([1,0])\n",
    "    else:\n",
    "        digits[-1] = 0\n",
    "        digits[0:-1] = plusOne(digits[0:-1])\n",
    "        return(digits)"
   ]
  },
  {
   "cell_type": "code",
   "execution_count": 66,
   "metadata": {
    "ExecuteTime": {
     "end_time": "2020-01-04T19:45:59.865881Z",
     "start_time": "2020-01-04T19:45:59.857342Z"
    }
   },
   "outputs": [
    {
     "data": {
      "text/plain": [
       "[1, 0, 0, 0]"
      ]
     },
     "execution_count": 66,
     "metadata": {},
     "output_type": "execute_result"
    }
   ],
   "source": [
    "plusOne([9,9,9])"
   ]
  },
  {
   "cell_type": "markdown",
   "metadata": {},
   "source": [
    "**LeetCode 13. Roman to Integer - Easy**\n",
    "\n",
    "Roman numerals are represented by seven different symbols: I, V, X, L, C, D and M.\n",
    "\n",
    "Symbol       Value  \n",
    "I             1  \n",
    "V             5   \n",
    "X             10   \n",
    "L             50   \n",
    "C             100   \n",
    "D             500   \n",
    "M             1000 \n",
    "\n",
    "For example, two is written as II in Roman numeral, just two one's added together. Twelve is written as, XII, which is simply X + II. The number twenty seven is written as XXVII, which is XX + V + II.  \n",
    "\n",
    "Roman numerals are usually written largest to smallest from left to right. However, the numeral for four is not IIII. Instead, the number four is written as IV. Because the one is before the five we subtract it making four. The same principle applies to the number nine, which is written as IX. There are six instances where subtraction is used:  \n",
    "I can be placed before V (5) and X (10) to make 4 and 9. \n",
    "X can be placed before L (50) and C (100) to make 40 and 90. \n",
    "C can be placed before D (500) and M (1000) to make 400 and 900.  \n",
    "Given a roman numeral, convert it to an integer. Input is guaranteed to be within the range from 1 to 3999.\n",
    "\n",
    "Example 1:  \n",
    "Input: \"III\"  \n",
    "Output: 3  \n",
    "\n",
    "Example 2:  \n",
    "Input: \"IV\"  \n",
    "Output: 4  \n",
    "\n",
    "Example 3:  \n",
    "Input: \"IX\"  \n",
    "Output: 9  \n",
    "\n",
    "Example 4:  \n",
    "Input: \"LVIII\"  \n",
    "Output: 58  \n",
    "Explanation: L = 50, V= 5, III = 3.  \n",
    "\n",
    "Example 5:  \n",
    "Input: \"MCMXCIV\"  \n",
    "Output: 1994  \n",
    "Explanation: M = 1000, CM = 900, XC = 90 and IV = 4.  \n",
    "\n",
    "[link](https://leetcode.com/problems/roman-to-integer/)\n",
    "\n",
    "**Hint 1** Use a dictionary!\n",
    "\n",
    "**Hint 2** You will need to keep track of two things. A pointer to keep track of your position in the string and a counter to keep track of the total. "
   ]
  },
  {
   "cell_type": "code",
   "execution_count": 80,
   "metadata": {
    "ExecuteTime": {
     "end_time": "2020-01-04T20:06:45.428291Z",
     "start_time": "2020-01-04T20:06:45.398845Z"
    }
   },
   "outputs": [],
   "source": [
    "def romanToInt(s: str) -> int:\n",
    "    roman_dict = {'I':1, 'V':5, 'X':10, 'L':50, 'C':100, 'D':500, 'M':1000}\n",
    "    total = 0\n",
    "    char = 0\n",
    "    while char < (len(s)-1):\n",
    "        if roman_dict[s[char]] < roman_dict[s[char+1]]:\n",
    "            total += (roman_dict[s[char+1]]-roman_dict[s[char]])\n",
    "            char +=2\n",
    "        else:\n",
    "            total += roman_dict[s[char]]\n",
    "            char += 1\n",
    "    if char < len(s):\n",
    "        total += roman_dict[s[char]]\n",
    "    return(total)"
   ]
  },
  {
   "cell_type": "markdown",
   "metadata": {
    "ExecuteTime": {
     "end_time": "2020-01-04T20:03:06.816311Z",
     "start_time": "2020-01-04T20:03:06.790881Z"
    }
   },
   "source": [
    "**LeetCode 14. Longest Common Prefix - Easy**\n",
    "\n",
    "Write a function to find the longest common prefix string amongst an array of strings.\n",
    "\n",
    "If there is no common prefix, return an empty string \"\".\n",
    "\n",
    "Example 1:\n",
    "\n",
    "Input: [\"flower\",\"flow\",\"flight\"]\n",
    "Output: \"fl\"\n",
    "Example 2:\n",
    "\n",
    "Input: [\"dog\",\"racecar\",\"car\"]\n",
    "Output: \"\"\n",
    "Explanation: There is no common prefix among the input strings.\n",
    "Note:\n",
    "\n",
    "All given inputs are in lowercase letters a-z.\n",
    "\n",
    "[link](https://leetcode.com/problems/longest-common-prefix/)\n",
    "\n",
    "**Hint 1** You will have to use two loops.\n",
    "\n",
    "**Hint 2** You can simplify and instead of matching letter by letter match the whole string to the begining of the word in question."
   ]
  },
  {
   "cell_type": "code",
   "execution_count": 93,
   "metadata": {
    "ExecuteTime": {
     "end_time": "2020-01-04T20:37:08.570085Z",
     "start_time": "2020-01-04T20:37:08.557123Z"
    }
   },
   "outputs": [],
   "source": [
    "def longestCommonPrefix(strs) -> str:\n",
    "    if len(strs) == 0:\n",
    "        return('')\n",
    "    longestpre= strs[0]\n",
    "    strs = strs[1:]\n",
    "    size = len(longestpre)\n",
    "    for word in strs:\n",
    "        while word[0:len(longestpre)] != longestpre:\n",
    "            longestpre = longestpre[0:-1]\n",
    "            size -= 1\n",
    "    return(longestpre)\n",
    "            "
   ]
  },
  {
   "cell_type": "markdown",
   "metadata": {
    "ExecuteTime": {
     "end_time": "2020-01-04T20:31:24.877044Z",
     "start_time": "2020-01-04T20:31:24.867070Z"
    }
   },
   "source": [
    "**LeetCode 20. Valid Parentheses - Easy**\n",
    "\n",
    "Given a string containing just the characters '(', ')', '{', '}', '[' and ']', determine if the input string is valid.\n",
    "\n",
    "An input string is valid if:\n",
    "\n",
    "Open brackets must be closed by the same type of brackets.\n",
    "Open brackets must be closed in the correct order.\n",
    "Note that an empty string is also considered valid.\n",
    "\n",
    "Example 1:\n",
    "\n",
    "Input: \"()\"\n",
    "Output: true\n",
    "Example 2:\n",
    "\n",
    "Input: \"()[]{}\"\n",
    "Output: true\n",
    "Example 3:\n",
    "\n",
    "Input: \"(]\"\n",
    "Output: false\n",
    "Example 4:\n",
    "\n",
    "Input: \"([)]\"\n",
    "Output: false\n",
    "Example 5:\n",
    "\n",
    "Input: \"{[]}\"\n",
    "Output: true\n",
    "\n",
    "[link](https://leetcode.com/problems/valid-parentheses/)\n",
    "\n",
    "**Hint 1** There is a couple ways to do this problem. It is a lot easier if you use the 'stack' or FILO data structure. \n",
    "\n",
    "**Hint 2 (If they write an if statement for each valid parenthesis)** There is an easier way to do this. I would use a dictionary or hash table."
   ]
  },
  {
   "cell_type": "code",
   "execution_count": 96,
   "metadata": {
    "ExecuteTime": {
     "end_time": "2020-01-04T20:47:24.550813Z",
     "start_time": "2020-01-04T20:47:24.541841Z"
    }
   },
   "outputs": [],
   "source": [
    "def isValid(s: str) -> bool:\n",
    "    valid_dict = {'(':')', '{':'}', '[':']'}\n",
    "    stack = []\n",
    "    for i in s:\n",
    "        if i in valid_dict.keys():\n",
    "            stack.append(i)\n",
    "        else:\n",
    "            if len(stack) > 0 and valid_dict[stack[-1]] == i:\n",
    "                stack.pop()\n",
    "            else:\n",
    "                return(False)\n",
    "    if len(stack) == 0:\n",
    "        return(True)\n",
    "    else:\n",
    "        return(False)\n",
    "                "
   ]
  },
  {
   "cell_type": "code",
   "execution_count": 99,
   "metadata": {
    "ExecuteTime": {
     "end_time": "2020-01-04T20:48:19.273025Z",
     "start_time": "2020-01-04T20:48:19.267014Z"
    }
   },
   "outputs": [
    {
     "data": {
      "text/plain": [
       "True"
      ]
     },
     "execution_count": 99,
     "metadata": {},
     "output_type": "execute_result"
    }
   ],
   "source": [
    "isValid('{[]}')"
   ]
  },
  {
   "cell_type": "markdown",
   "metadata": {},
   "source": [
    "**LeetCode 21. Merge Two Sorted Linked Lists - Easy**\n",
    "\n",
    "Merge two sorted linked lists and return it as a new list. The new list should be made by splicing together the nodes of the first two lists.\n",
    "\n",
    "Example:\n",
    "\n",
    "Input: 1->2->4, 1->3->4\n",
    "Output: 1->1->2->3->4->4\n",
    "\n",
    "[link](https://leetcode.com/problems/merge-two-sorted-lists/)\n",
    "\n",
    "**Hint 1** Write out the definition of a linked list.\n",
    "\n",
    "**Hint 2** You will have to iterate over both linked lists at the same time.\n",
    "\n",
    "**Hint 3** Make sure to write code for handling the remaining Linked List once you have iterated all the way through one of them."
   ]
  },
  {
   "cell_type": "code",
   "execution_count": null,
   "metadata": {},
   "outputs": [],
   "source": [
    "# Definition for singly-linked list.\n",
    "class ListNode:\n",
    "    def __init__(self, x):\n",
    "        self.val = x\n",
    "        self.next = None\n",
    "\n",
    "def mergeTwoLists(l1: ListNode, l2: ListNode) -> ListNode:\n",
    "    \n",
    "    #Add the first node\n",
    "    if l1 != None and l2 != None:\n",
    "        if l1.val < l2.val:\n",
    "            l3 = ListNode(l1.val)\n",
    "            l1 = l1.next\n",
    "        else:\n",
    "            l3 = ListNode(l2.val)\n",
    "            l2 = l2.next\n",
    "    elif l1 != None:\n",
    "        return(l1)\n",
    "    else:\n",
    "        return(l2)\n",
    "    \n",
    "    #Make a pointer for the new ListNode\n",
    "    current_node = l3\n",
    "    \n",
    "    #Work through the remainder of the linked Lists\n",
    "    while l1 != None and l2 != None:\n",
    "        if l1.val > l2.val:\n",
    "            current_node.next = ListNode(l2.val)\n",
    "            current_node = current_node.next\n",
    "            l2 = l2.next\n",
    "        else:\n",
    "            current_node.next  = ListNode(l1.val)\n",
    "            current_node = current_node.next\n",
    "            l1 = l1.next\n",
    "    while l1 != None:\n",
    "        current_node.next = ListNode(l1.val)\n",
    "        current_node = current_node.next\n",
    "        l1 = l1.next\n",
    "    while l2 != None:\n",
    "        current_node.next = ListNode(l2.val)\n",
    "        current_node = current_node.next\n",
    "        l2 = l2.next\n",
    "        \n",
    "    return(l3)"
   ]
  },
  {
   "cell_type": "markdown",
   "metadata": {},
   "source": [
    "**LeetCode 26. Remove Duplicates from Sorted Array - Easy**\n",
    "\n",
    "Given a sorted array nums, remove the duplicates in-place such that each element appear only once and return the new length.\n",
    "\n",
    "Do not allocate extra space for another array, you must do this by modifying the input array in-place with O(1) extra memory.\n",
    "\n",
    "Example 1:\n",
    "Given nums = [1,1,2],\n",
    "Your function should return length = 2, with the first two elements of nums being 1 and 2 respectively.\n",
    "\n",
    "It doesn't matter what you leave beyond the returned length.\n",
    "\n",
    "Example 2:\n",
    "Given nums = [0,0,1,1,1,2,2,3,3,4],\n",
    "Your function should return length = 5, with the first five elements of nums being modified to 0, 1, 2, 3, and 4 respectively.\n",
    "\n",
    "It doesn't matter what values are set beyond the returned length.\n",
    "\n",
    "Clarification:\n",
    "Confused why the returned value is an integer but your answer is an array?  \n",
    "Note that the input array is passed in by reference, which means modification to the input array will be known to the caller as well.  \n",
    "Internally you can think of this:  \n",
    "nums is passed in by reference. (i.e., without making a copy)  \n",
    "int len = removeDuplicates(nums);  \n",
    "any modification to nums in your function would be known by the caller.  \n",
    "using the length returned by your function, it prints the first len elements.  \n",
    "for (int i = 0; i < len; i++) {print(nums[i]);}\n",
    "\n",
    "**Hint 1** There is a lot of ways to do this problem. Are you familiar with how to make sets form arrays and lists in python?\n",
    "\n",
    "**Hint 2** Iterate over the list, just skip the first element. Change nums while you're iterating over the list and have a pointer for the number of unique elements you are coming across. "
   ]
  },
  {
   "cell_type": "code",
   "execution_count": 116,
   "metadata": {
    "ExecuteTime": {
     "end_time": "2020-01-05T19:29:29.008780Z",
     "start_time": "2020-01-05T19:29:29.003793Z"
    }
   },
   "outputs": [],
   "source": [
    "# Recursive solution\n",
    "def removeDuplicates(nums) -> int:\n",
    "        for i,j in enumerate(nums):\n",
    "            if i < (len(nums)-1):\n",
    "                if j == nums[i+1]:\n",
    "                    nums.remove(j)\n",
    "                    removeDuplicates(nums)\n",
    "        return(len(nums))"
   ]
  },
  {
   "cell_type": "code",
   "execution_count": 121,
   "metadata": {
    "ExecuteTime": {
     "end_time": "2020-01-05T19:30:25.624939Z",
     "start_time": "2020-01-05T19:30:25.615965Z"
    }
   },
   "outputs": [],
   "source": [
    "# This answer feels like cheating\n",
    "def removeDuplicates(nums) -> int:\n",
    "        return(len(set(nums)))"
   ]
  },
  {
   "cell_type": "code",
   "execution_count": null,
   "metadata": {},
   "outputs": [],
   "source": [
    "# This is the most intuitive soluton without using set()\n",
    "def removeDuplicates(self, nums: List[int]) -> int:\n",
    "        len_ = 1\n",
    "        if len(nums)==0:\n",
    "            return 0\n",
    "        for i in range(1,len(nums)):\n",
    "            if nums[i] != nums[i-1]:\n",
    "                nums[len_] = nums[i]\n",
    "                len_ +=1\n",
    "        nums = nums[:(len_+1)]\n",
    "        return len_"
   ]
  },
  {
   "cell_type": "markdown",
   "metadata": {},
   "source": [
    "**LeetCode 67. Add Binary - Easy**\n",
    "\n",
    "Given two binary strings, return their sum (also a binary string).\n",
    "\n",
    "The input strings are both non-empty and contains only characters 1 or 0.\n",
    "\n",
    "Example 1:\n",
    "\n",
    "Input: a = \"11\", b = \"1\"\n",
    "Output: \"100\"\n",
    "Example 2:\n",
    "\n",
    "Input: a = \"1010\", b = \"1011\"\n",
    "Output: \"10101\"\n",
    "\n",
    "[Link](https://leetcode.com/problems/add-binary/)\n",
    "\n",
    "**Hint 1** To do a binary addition you will have to add one digit at a time. To do this you will first have to make the two string artificially the same length.\n",
    "\n",
    "**Hint 2** You can iterate over both strings together and explicitely add each digit by usung enumerate on either string.\n",
    "\n",
    "**Hint 3** You have to define what happens for each case. When adding the digit from the two strings there is only three possibilities, 0, 1 or >1.\n",
    "\n",
    "**Hint 4** Make sure to take into account the carry over that adds an extra digit."
   ]
  },
  {
   "cell_type": "code",
   "execution_count": 151,
   "metadata": {
    "ExecuteTime": {
     "end_time": "2020-01-05T20:11:29.053750Z",
     "start_time": "2020-01-05T20:11:29.035799Z"
    }
   },
   "outputs": [],
   "source": [
    "def addBinary(a: str, b: str) -> str:\n",
    "        # Check for zero values\n",
    "        if int(a) == 0 or int(b) == 0:\n",
    "            return(str(int(a)+int(b)))\n",
    "    \n",
    "        # Make the two the same length (add zeros)\n",
    "        while len(a) < len(b):\n",
    "            a = '0' + a\n",
    "        while len(b) < len(a):\n",
    "            b = '0' + b\n",
    "    \n",
    "        # Do the addition\n",
    "        a = a[::-1]\n",
    "        b = b[::-1]\n",
    "    \n",
    "        leftover = 0\n",
    "        answer = ''\n",
    "        for i,j in enumerate(a):\n",
    "            num = int(j) + int(b[i]) + leftover\n",
    "            leftover = 0\n",
    "            if num < 2:\n",
    "                answer += str(num)\n",
    "            else: \n",
    "                leftover = num//2\n",
    "                answer += str(num%2)\n",
    "            \n",
    "        if leftover > 0:\n",
    "            answer += str(leftover)\n",
    "            \n",
    "        return(answer[::-1])"
   ]
  },
  {
   "cell_type": "markdown",
   "metadata": {},
   "source": [
    "**LeetCode 83. Remove Duplicates from Sorted List - Easy**\n",
    "\n",
    "Given a sorted linked list, delete all duplicates such that each element appear only once.\n",
    "\n",
    "Example 1:\n",
    "\n",
    "Input: 1->1->2\n",
    "Output: 1->2\n",
    "Example 2:\n",
    "\n",
    "Input: 1->1->2->3->3\n",
    "Output: 1->2->3\n",
    "\n",
    "[link](https://leetcode.com/problems/remove-duplicates-from-sorted-list/)\n",
    "\n",
    "**Hint 1** You will have to make a new linkedlist and add elements to it as you traverse the existing linked list\n",
    "\n",
    "**Hint 2** Use a regular list (or an array or set) to keep track of the values as you traverse the linked list"
   ]
  },
  {
   "cell_type": "code",
   "execution_count": 4,
   "metadata": {
    "ExecuteTime": {
     "end_time": "2020-01-10T04:38:24.881656Z",
     "start_time": "2020-01-10T04:38:24.871682Z"
    }
   },
   "outputs": [],
   "source": [
    "# Definition for singly-linked list.\n",
    "class ListNode:\n",
    "    def __init__(self, x):\n",
    "        self.val = x\n",
    "        self.next = None\n",
    "\n",
    "def deleteDuplicates(head: ListNode) -> ListNode:\n",
    "    if head == None:\n",
    "        return(None)\n",
    "    l1 = ListNode(head.val)\n",
    "    current = l1\n",
    "    dup_list = [head.val]\n",
    "    while head.next != None:\n",
    "        head = head.next\n",
    "        if head.val not in dup_list:\n",
    "            current.next = ListNode(head.val)\n",
    "            current = current.next\n",
    "            dup_list.append(head.val)\n",
    "    return(l1)"
   ]
  },
  {
   "cell_type": "code",
   "execution_count": 5,
   "metadata": {
    "ExecuteTime": {
     "end_time": "2020-01-10T04:38:27.675740Z",
     "start_time": "2020-01-10T04:38:27.668758Z"
    }
   },
   "outputs": [],
   "source": [
    "#Without building a list since the linked list should be sorted\n",
    "\n",
    "def deleteDuplicates(head: ListNode) -> ListNode:\n",
    "        if head == None: return None\n",
    "        start = current = ListNode(head.val)\n",
    "        while head.next != None:\n",
    "            if head.val != head.next.val:\n",
    "                current.next = ListNode(head.next.val)\n",
    "                current = current.next\n",
    "            head = head.next\n",
    "        return start"
   ]
  },
  {
   "cell_type": "markdown",
   "metadata": {},
   "source": [
    "**LeetCode 100. Same Tree - Easy**\n",
    "\n",
    "Given two binary trees, write a function to check if they are the same or not.\n",
    "\n",
    "Two binary trees are considered the same if they are structurally identical and the nodes have the same value.\n",
    "\n",
    "Example 1:\n",
    "\n",
    "Input:     1         1\n",
    "          / \\       / \\\n",
    "         2   3     2   3\n",
    "\n",
    "        [1,2,3],   [1,2,3]\n",
    "\n",
    "Output: true\n",
    "Example 2:\n",
    "\n",
    "Input:     1         1\n",
    "          /           \\\n",
    "         2             2\n",
    "\n",
    "        [1,2],     [1,null,2]\n",
    "\n",
    "Output: false\n",
    "Example 3:\n",
    "\n",
    "Input:     1         1\n",
    "          / \\       / \\\n",
    "         2   1     1   2\n",
    "\n",
    "        [1,2,1],   [1,1,2]\n",
    "\n",
    "Output: false\n",
    "\n",
    "[link to problem](https://leetcode.com/problems/same-tree/)\n",
    "\n",
    "**Hint 1** Lets define a TreeNode. \n",
    "\n",
    "**Hint 2** If you find yourself writing way too many nested if statements you will need to use recursion.\n",
    "\n",
    "**Hint 3** Lets start with the base case. If the two input trees are none or only contain a single node with a value it should return True. Lets write the code for that.\n",
    "\n",
    "**Hint 4** We can now use the code we have written on node1.left and node2.left, etc."
   ]
  },
  {
   "cell_type": "code",
   "execution_count": 7,
   "metadata": {
    "ExecuteTime": {
     "end_time": "2020-01-10T05:01:27.029558Z",
     "start_time": "2020-01-10T05:01:27.022577Z"
    }
   },
   "outputs": [],
   "source": [
    "# Definition for a binary tree node.\n",
    "class TreeNode:\n",
    "    def __init__(self, x):\n",
    "        self.val = x\n",
    "        self.left = None\n",
    "        self.right = None\n",
    "\n",
    "def isSameTree(self, p: TreeNode, q: TreeNode) -> bool:\n",
    "        if p == None and q == None:\n",
    "            return(True)\n",
    "        if p == None or q == None:\n",
    "            return(False)\n",
    "        if p.val != q.val:\n",
    "            return(False)\n",
    "        return self.isSameTree(p.left, q.left) and self.isSameTree(p.right, q.right)"
   ]
  },
  {
   "cell_type": "markdown",
   "metadata": {},
   "source": [
    "**LeetCode 101. Symmetric Tree - Easy**\n",
    "\n",
    "Given a binary tree, check whether it is a mirror of itself (ie, symmetric around its center).\n",
    "\n",
    "For example, this binary tree [1,2,2,3,4,4,3] is symmetric:\n",
    "\n",
    "    1\n",
    "   / \\\n",
    "  2   2\n",
    " / \\ / \\\n",
    "3  4 4  3\n",
    " \n",
    "\n",
    "But the following [1,2,2,null,3,null,3] is not:\n",
    "\n",
    "    1\n",
    "   / \\\n",
    "  2   2\n",
    "   \\   \\\n",
    "   3    3\n",
    " \n",
    "\n",
    "**Note:** Bonus points if you could solve it both recursively and iteratively.\n",
    "\n",
    "[link](https://leetcode.com/problems/symmetric-tree/)\n",
    "\n",
    "**Hint 1** There are two ways to solve this problem. Let the fellow know if they are onto one of the solutions or mention that they will have to use a tree traversal strategy.\n",
    "\n",
    "**Hint 2** Remember when traversing a tree we will have to keep track of the values in one container (maybe a list?) and the nodes in each level in another container. Once we have all the nodes in a list we can iterate over all the nodes in that list.\n",
    "\n",
    "**Hint 3** You will have to reset the 'next level' nodes every time you iterate over the level."
   ]
  },
  {
   "cell_type": "code",
   "execution_count": null,
   "metadata": {},
   "outputs": [],
   "source": [
    "# Definition for a binary tree node.\n",
    "class TreeNode:\n",
    "    def __init__(self, x):\n",
    "        self.val = x\n",
    "        self.left = None\n",
    "        self.right = None"
   ]
  },
  {
   "cell_type": "code",
   "execution_count": 8,
   "metadata": {
    "ExecuteTime": {
     "end_time": "2020-01-10T05:52:59.915502Z",
     "start_time": "2020-01-10T05:52:59.904531Z"
    }
   },
   "outputs": [],
   "source": [
    "# Recursive solution\n",
    "\n",
    "def isMirror(a: TreeNode, b: TreeNode) -> bool:\n",
    "    if a == None and b == None:\n",
    "        return(True)\n",
    "    if a == None or b == None:\n",
    "        return(False)\n",
    "    if a.val != b.val:\n",
    "        return(False)\n",
    "    return(isMirror(a.left, b.right) and isMirror(a.right, b.left))\n",
    "\n",
    "def isSymmetric(self, root: TreeNode) -> bool:\n",
    "        return isMirror(a=root, b=root)"
   ]
  },
  {
   "cell_type": "code",
   "execution_count": 9,
   "metadata": {
    "ExecuteTime": {
     "end_time": "2020-01-10T06:12:40.535665Z",
     "start_time": "2020-01-10T06:12:40.527656Z"
    }
   },
   "outputs": [],
   "source": [
    "# Iterative solution\n",
    "\n",
    "def isSymmetric(self, root: TreeNode) -> bool:\n",
    "        \n",
    "    if not root:\n",
    "        return True\n",
    "    level=[root]\n",
    "        \n",
    "    while level:\n",
    "        nextlevel=[]\n",
    "        val=[]\n",
    "        for node in level:\n",
    "            if node.right:\n",
    "                nextlevel.append(node.right)\n",
    "                val.append(node.right.val)\n",
    "            else:\n",
    "                val.append(\"Empty\")\n",
    "            if node.left:    \n",
    "                nextlevel.append(node.left)\n",
    "                val.append(node.left.val)\n",
    "            else:\n",
    "                val.append(\"Empty\")    \n",
    "        if val != val[::-1]:\n",
    "            return False\n",
    "        level=nextlevel\n",
    "\n",
    "    return True "
   ]
  },
  {
   "cell_type": "markdown",
   "metadata": {},
   "source": [
    "**LeetCode 104. Maximum Depth of Binary Tree - Easy**\n",
    "\n",
    "Given a binary tree, find its maximum depth.\n",
    "\n",
    "The maximum depth is the number of nodes along the longest path from the root node down to the farthest leaf node.\n",
    "\n",
    "Note: A leaf is a node with no children.\n",
    "\n",
    "Example:\n",
    "\n",
    "Given binary tree [3,9,20,null,null,15,7],\n",
    "      \n",
    "return its depth = 3.\n",
    "\n",
    "[link](https://leetcode.com/problems/maximum-depth-of-binary-tree/)\n",
    "\n",
    "**Hint 1** There is only two functions you can do on a TreeNode in this case. We can define the TreeNode class to make it easier.\n",
    "\n",
    "**Hint 2** If you find yourself writing a lot of nested if statements there is probably a trick. We can use recursion here."
   ]
  },
  {
   "cell_type": "code",
   "execution_count": 10,
   "metadata": {
    "ExecuteTime": {
     "end_time": "2020-01-11T20:36:43.799761Z",
     "start_time": "2020-01-11T20:36:43.792780Z"
    }
   },
   "outputs": [],
   "source": [
    "# Definition for a binary tree node.\n",
    "class TreeNode:\n",
    "    def __init__(self, x):\n",
    "        self.val = x\n",
    "        self.left = None\n",
    "        self.right = None\n",
    "\n",
    "def maxDepth(self, root: TreeNode) -> int:\n",
    "    # Use recursion here. The way this is written is that it will add 1 for each layer of the tree as we traverse the tree\n",
    "    if root:\n",
    "        return 1 + max(map(self.maxDepth, (root.left, root.right)))\n",
    "    else:\n",
    "        return(0)"
   ]
  },
  {
   "cell_type": "markdown",
   "metadata": {},
   "source": [
    "**Approximating the value of pi**\n",
    "\n",
    "I stole this question from [this video](https://www.youtube.com/watch?v=pvimAM_SLic). Fair warning the video is quite snarky, but also funny.\n",
    "\n",
    "Python has a function random.uniform(0,1) which will generate a pseudo random number between 0 and 1. \n",
    "\n",
    "Have the fellow draw out the density plot of the frequency of numbers selected looks like to make sure they understand this concept.\n",
    "\n",
    "Now have the fellow draw a graph where the x and y axis go from 0 to 1. Now populate this graph with several points, where X is decided by random.uniform(0,1) and y is decided by random.uniform(0,1). This should result in a square if enough points are drawn in. \n",
    "\n",
    "Here is where you can freak the fellow out a little bit and ask for them to use this information to approximate the value of pi. \n",
    "\n",
    "**Hint 1** Give them a hint that the area of a circle is pi*r^2\n",
    "\n",
    "**Hint 2** Give them another hint by adding to the graph they have drawn to change the range to -1 to 1 on each axis. Now draw a square where each side is legnth 2 (centered at the origin) and then draw a circle with r=1 centered at the origin.\n",
    "\n",
    "**Hint 3** Give them another hint that the area of the square is (2r)^2\n",
    "\n",
    "**Hint 4** Give another hint that they can calculate the ratio of the area of the circle to the area of the square they will get pi/4. This ratio is also equal to the number of dots that are within the circle and the total number of dots. \n",
    "\n",
    "At this point the answer should click and should be easy to code."
   ]
  },
  {
   "cell_type": "code",
   "execution_count": 14,
   "metadata": {
    "ExecuteTime": {
     "end_time": "2020-01-23T05:43:32.924359Z",
     "start_time": "2020-01-23T05:43:32.918375Z"
    }
   },
   "outputs": [],
   "source": [
    "import random\n",
    "import math\n",
    "def pi_finder(n:int)->float:\n",
    "    num_in_circle = 0\n",
    "    for i in range(n):\n",
    "        x = random.uniform(0,1)\n",
    "        y = random.uniform(0,1)\n",
    "        z = math.sqrt(x**2 + y**2)\n",
    "        if z < 1:\n",
    "            num_in_circle += 1\n",
    "    return(4*num_in_circle/n)\n",
    "    "
   ]
  },
  {
   "cell_type": "code",
   "execution_count": 15,
   "metadata": {
    "ExecuteTime": {
     "end_time": "2020-01-23T05:43:33.710968Z",
     "start_time": "2020-01-23T05:43:33.502525Z"
    }
   },
   "outputs": [
    {
     "data": {
      "text/plain": [
       "3.13588"
      ]
     },
     "execution_count": 15,
     "metadata": {},
     "output_type": "execute_result"
    }
   ],
   "source": [
    "pi_finder(100000)"
   ]
  },
  {
   "cell_type": "markdown",
   "metadata": {},
   "source": [
    "Write a function where you calculate the number of ways to climb up a set of stairs given the number of stairs (n) and that you can only climb one or two stairs per step.\n",
    "\n",
    "For example, if n = 2 there are two ways to return to the top (one stair plus one stair or two stairs).\n",
    "\n",
    "**Hint 1:** This is a Fibinacci sequence problem\n",
    "\n",
    "**Hint 2:** Think of the base case when n = 0, 1 or 2\n",
    "\n",
    "**Hint 3:** How about when n = 3? Any way tosplit up the n = 3 problem into smaller problems?"
   ]
  },
  {
   "cell_type": "code",
   "execution_count": 16,
   "metadata": {
    "ExecuteTime": {
     "end_time": "2020-01-23T06:08:49.828297Z",
     "start_time": "2020-01-23T06:08:49.820320Z"
    }
   },
   "outputs": [],
   "source": [
    "def stair_calc(n:int)->int:\n",
    "    if n == 0:\n",
    "        return 1\n",
    "    if n == 1:\n",
    "        return 1\n",
    "    if n == 2:\n",
    "        return 2\n",
    "    return stair_calc(n-1) + stair_calc(n-2)\n",
    "    "
   ]
  },
  {
   "cell_type": "code",
   "execution_count": 18,
   "metadata": {
    "ExecuteTime": {
     "end_time": "2020-01-23T06:09:18.555802Z",
     "start_time": "2020-01-23T06:09:18.550815Z"
    }
   },
   "outputs": [
    {
     "data": {
      "text/plain": [
       "13"
      ]
     },
     "execution_count": 18,
     "metadata": {},
     "output_type": "execute_result"
    }
   ],
   "source": [
    "stair_calc(6)"
   ]
  },
  {
   "cell_type": "markdown",
   "metadata": {},
   "source": [
    "**Convertings a string into a dictionary** \n",
    "\n",
    "This question comes from [this website](https://www.geeksforgeeks.org/python-converting-list-string-to-dictionary/)\n",
    "\n",
    "Given a tring with the following format, return a dictionary\n",
    "\n",
    "The original string : \"[Nikhil:1, Akshat:2, Akash:3]\"\n",
    "The dictionary after extraction is : {'Nikhil': '1', 'Akash': '3', 'Akshat': '2'}"
   ]
  },
  {
   "cell_type": "code",
   "execution_count": 20,
   "metadata": {
    "ExecuteTime": {
     "end_time": "2020-01-23T06:27:54.093034Z",
     "start_time": "2020-01-23T06:27:54.087048Z"
    }
   },
   "outputs": [],
   "source": [
    "# Brute force method:\n",
    "def str_to_dict (s:str) -> dict:\n",
    "    # Remove the first and last character\n",
    "    s = s[1:-1]\n",
    "    # Split the string on commas\n",
    "    s_list = s.split(',')\n",
    "    # Define an empty dictionary\n",
    "    s_dict= {}\n",
    "    # Populate the dict by splitting again on semi-colons while looping through the list\n",
    "    for i in s_list:\n",
    "        s_dict[i.split(':')[0]] = i.split(':')[1]\n",
    "    return(s_dict)"
   ]
  },
  {
   "cell_type": "code",
   "execution_count": 21,
   "metadata": {
    "ExecuteTime": {
     "end_time": "2020-01-23T06:30:26.496939Z",
     "start_time": "2020-01-23T06:30:26.490956Z"
    }
   },
   "outputs": [],
   "source": [
    "# Fancier method using the eval() function on the string\n",
    "def str_to_dict (s:str) -> dict:\n",
    "    # Replace the square brackets with curly braces\n",
    "    # evaluate the string to create a dictionary\n",
    "    return(eval(s.replace('[', '{').replace(']','}')))"
   ]
  },
  {
   "cell_type": "code",
   "execution_count": 22,
   "metadata": {
    "ExecuteTime": {
     "end_time": "2020-01-23T06:33:31.121294Z",
     "start_time": "2020-01-23T06:33:31.107337Z"
    }
   },
   "outputs": [],
   "source": [
    "# By far the fanciest method using dictionary comprehension\n",
    "def str_to_dict (s:str) -> dict:\n",
    "    return {sub.split(':')[0]: sub.split(':')[1] for sub in s[1:-1].split(',')}"
   ]
  },
  {
   "cell_type": "markdown",
   "metadata": {},
   "source": [
    "**First recurring character**\n",
    "\n",
    "I stole this question from [this video](https://www.youtube.com/watch?v=GJdiM-muYqc)\n",
    "\n",
    "Given an input string, find the first recurring character.\n",
    "\n",
    "ex) input: 'ABCDA'; Output: 'A'\n",
    "\n",
    "If there are not reccuring characters, return None."
   ]
  },
  {
   "cell_type": "code",
   "execution_count": 5,
   "metadata": {
    "ExecuteTime": {
     "end_time": "2020-01-24T05:18:17.010898Z",
     "start_time": "2020-01-24T05:18:17.003916Z"
    }
   },
   "outputs": [],
   "source": [
    "# They should be able to come up with an O(n) solution. \n",
    "# If they check the rest of the string for each character that is an O(n^2) solution. \n",
    "# Using a dictionary or hash table instead of a string allows you to be more efficient.\n",
    "\n",
    "def recurring(s:str)->str:\n",
    "    chars = {}\n",
    "    for i in s:\n",
    "        if i in chars.keys():\n",
    "            return(i)\n",
    "        else: chars[i] = 1\n",
    "    return(None)"
   ]
  },
  {
   "cell_type": "code",
   "execution_count": 6,
   "metadata": {
    "ExecuteTime": {
     "end_time": "2020-01-24T05:18:17.554949Z",
     "start_time": "2020-01-24T05:18:17.549957Z"
    }
   },
   "outputs": [
    {
     "data": {
      "text/plain": [
       "'A'"
      ]
     },
     "execution_count": 6,
     "metadata": {},
     "output_type": "execute_result"
    }
   ],
   "source": [
    "recurring('ABCDA')"
   ]
  },
  {
   "cell_type": "markdown",
   "metadata": {},
   "source": [
    "**Leetcode 136. Single Number**\n",
    "\n",
    "Given a non-empty array of integers, every element appears twice except for one. Find that single one.  \n",
    "  \n",
    "Note: Your algorithm should have a linear runtime complexity. Could you implement it without using extra memory?  \n",
    "\n",
    "Example 1:  \n",
    "Input: [2,2,1]  \n",
    "Output: 1  \n",
    "  \n",
    "Example 2:  \n",
    "Input: [4,1,2,1,2]  \n",
    "Output: 4  \n",
    "\n",
    "[Link](https://leetcode.com/problems/single-number/)\n",
    "\n",
    "**Hint 1** Make a new array to keep track of the first time you see each element.\n",
    "\n",
    "**Hint 2** Modify nums in place."
   ]
  },
  {
   "cell_type": "code",
   "execution_count": 23,
   "metadata": {
    "ExecuteTime": {
     "end_time": "2020-04-02T02:02:33.249985Z",
     "start_time": "2020-04-02T02:02:33.234340Z"
    }
   },
   "outputs": [],
   "source": [
    "# Brute force method by creating a new list\n",
    "def singleNumber(nums: list) -> int:\n",
    "    single = []\n",
    "    for i in nums:\n",
    "        if i in single:\n",
    "            single.remove(i)\n",
    "        else:\n",
    "            single.append(i)\n",
    "    return single[0]"
   ]
  },
  {
   "cell_type": "code",
   "execution_count": 24,
   "metadata": {
    "ExecuteTime": {
     "end_time": "2020-04-02T02:02:34.452481Z",
     "start_time": "2020-04-02T02:02:34.436864Z"
    }
   },
   "outputs": [],
   "source": [
    "# Without using extra memory\n",
    "def singleNumber(nums: list) -> int:\n",
    "    for i,j in enumerate(nums):\n",
    "        if j in (nums[:i]+nums[(i+1):]):\n",
    "            continue\n",
    "        else:\n",
    "            return j"
   ]
  },
  {
   "cell_type": "code",
   "execution_count": 3,
   "metadata": {
    "ExecuteTime": {
     "end_time": "2020-04-02T20:34:14.493189Z",
     "start_time": "2020-04-02T20:34:14.477529Z"
    }
   },
   "outputs": [],
   "source": [
    "# And here is a super simple one-line solution\n",
    "def singleNumber(nums: list) -> int:\n",
    "    return 2*sum(set(nums))-sum(nums)"
   ]
  },
  {
   "cell_type": "markdown",
   "metadata": {},
   "source": [
    "**Leetcode 283. Move Zeros**\n",
    "\n",
    "Given an array nums, write a function to move all 0's to the end of it while maintaining the relative order of the non-zero elements.\n",
    "\n",
    "Example:  \n",
    "Input: [0,1,0,3,12]  \n",
    "Output: [1,3,12,0,0]\n",
    "\n",
    "Note:  You must do this in-place without making a copy of the array. Minimize the total number of operations.\n",
    "\n",
    "[Link](https://leetcode.com/problems/move-zeroes/)"
   ]
  },
  {
   "cell_type": "code",
   "execution_count": 28,
   "metadata": {
    "ExecuteTime": {
     "end_time": "2020-04-05T03:50:54.094636Z",
     "start_time": "2020-04-05T03:50:54.079039Z"
    }
   },
   "outputs": [],
   "source": [
    "# Simple solution\n",
    "def moveZeroes(nums: list) -> None:\n",
    "    \"\"\"\n",
    "    Do not return anything, modify nums in-place instead.\n",
    "    \"\"\"\n",
    "    counter = 0\n",
    "    for i in nums:\n",
    "        if counter > len(nums):\n",
    "            break\n",
    "        if i == 0:\n",
    "            nums.remove(0)\n",
    "            nums.append(0)\n",
    "            counter += 1"
   ]
  },
  {
   "cell_type": "code",
   "execution_count": 24,
   "metadata": {
    "ExecuteTime": {
     "end_time": "2020-04-05T03:47:34.874669Z",
     "start_time": "2020-04-05T03:47:34.859035Z"
    }
   },
   "outputs": [],
   "source": [
    "# Similiar idea, but more efficient\n",
    "def moveZeroes(nums: list) -> None:\n",
    "    \"\"\"\n",
    "    Do not return anything, modify nums in-place instead.\n",
    "    \"\"\"\n",
    "    left, right = 0, 0\n",
    "    while right < len(nums):\n",
    "        if nums[right] != 0:\n",
    "            nums[left] = nums[right]\n",
    "            left += 1\n",
    "        right += 1\n",
    "        \n",
    "    while left < len(nums):\n",
    "        nums[left] = 0\n",
    "        left += 1"
   ]
  },
  {
   "cell_type": "markdown",
   "metadata": {},
   "source": [
    "**Leetcode 122. Best Time to Buy and Sell Stock II**\n",
    "\n",
    "Say you have an array for which the ith element is the price of a given stock on day i.  \n",
    "Design an algorithm to find the maximum profit. You may complete as many transactions as you like (i.e., buy one and sell one share of the stock multiple times).  \n",
    "Note: You may not engage in multiple transactions at the same time (i.e., you must sell the stock before you buy again).  \n",
    "\n",
    "Example 1:  \n",
    "Input: [7,1,5,3,6,4]  \n",
    "Output: 7  \n",
    "Explanation: Buy on day 2 (price = 1) and sell on day 3 (price = 5), profit = 5-1 = 4.\n",
    "             Then buy on day 4 (price = 3) and sell on day 5 (price = 6), profit = 6-3 = 3.  \n",
    "  \n",
    "Example 2:  \n",
    "Input: [1,2,3,4,5]  \n",
    "Output: 4  \n",
    "Explanation: Buy on day 1 (price = 1) and sell on day 5 (price = 5), profit = 5-1 = 4.\n",
    "             Note that you cannot buy on day 1, buy on day 2 and sell them later, as you are\n",
    "             engaging multiple transactions at the same time. You must sell before buying again.  \n",
    "  \n",
    "Example 3:  \n",
    "Input: [7,6,4,3,1]  \n",
    "Output: 0  \n",
    "Explanation: In this case, no transaction is done, i.e. max profit = 0.  \n",
    "\n",
    "[Link](https://leetcode.com/problems/best-time-to-buy-and-sell-stock-ii/)"
   ]
  },
  {
   "cell_type": "code",
   "execution_count": 35,
   "metadata": {
    "ExecuteTime": {
     "end_time": "2020-04-05T19:17:18.255011Z",
     "start_time": "2020-04-05T19:17:18.239396Z"
    }
   },
   "outputs": [],
   "source": [
    "def maxProfit(prices: list) -> int:\n",
    "    profit = 0\n",
    "    for i in range(1,len(prices)):\n",
    "        if prices[i] > prices[i-1]:\n",
    "            profit += (prices[i]-prices[i-1])\n",
    "    return profit"
   ]
  },
  {
   "cell_type": "markdown",
   "metadata": {},
   "source": [
    "**Leetcode 49. Group Anagrams**\n",
    "\n",
    "Given an array of strings, group anagrams together.\n",
    "\n",
    "Example:  \n",
    "Input: [\"eat\", \"tea\", \"tan\", \"ate\", \"nat\", \"bat\"],  \n",
    "Output:  \n",
    "[  \n",
    "  [\"ate\",\"eat\",\"tea\"],  \n",
    "  [\"nat\",\"tan\"],  \n",
    "  [\"bat\"]  \n",
    "]  \n",
    "\n",
    "[link](https://leetcode.com/problems/group-anagrams/)\n",
    "\n",
    "**Hint 1** Use a dictionary. The keys can be the list (or tuple) of letters in the word. The Value can be a list of the words with those letters."
   ]
  },
  {
   "cell_type": "code",
   "execution_count": 36,
   "metadata": {
    "ExecuteTime": {
     "end_time": "2020-04-06T21:06:08.450150Z",
     "start_time": "2020-04-06T21:06:08.421585Z"
    }
   },
   "outputs": [],
   "source": [
    "# This answer is cheating a bit since we use the Collections library\n",
    "import collections\n",
    "def groupAnagrams(strs: list):\n",
    "    # This allows us to created a dictionary where every value is initialized as a list\n",
    "    ans = collections.defaultdict(list)\n",
    "    for s in strs:\n",
    "        ans[tuple(sorted(s))].append(s)\n",
    "    return ans.values()\n",
    "    "
   ]
  },
  {
   "cell_type": "code",
   "execution_count": 38,
   "metadata": {
    "ExecuteTime": {
     "end_time": "2020-04-06T21:09:40.016400Z",
     "start_time": "2020-04-06T21:09:39.990540Z"
    }
   },
   "outputs": [],
   "source": [
    "# Here it is without using collections\n",
    "def groupAnagrams(strs: list) -> list:\n",
    "    set_dict = {}    \n",
    "    for i in range(0,len(strs)):\n",
    "        #sort the letters so that we can make it a key in dict\n",
    "        element = tuple(sorted(strs[i]))\n",
    "        if element in set_dict:\n",
    "            set_dict[element].append(strs[i])    \n",
    "        else:\n",
    "        #element observed for the first time. Adding it to the dict with key as sorted tupple of letters\n",
    "            set_dict[element] = [strs[i]]            \n",
    "    return set_dict.values()   "
   ]
  },
  {
   "cell_type": "markdown",
   "metadata": {},
   "source": [
    "**Leetcode. Counting Elements**\n",
    "\n",
    "Given an integer array arr, count element x such that x + 1 is also in arr.\n",
    "  \n",
    "If there're duplicates in arr, count them seperately.  \n",
    "  \n",
    "Example 1:  \n",
    "Input: arr = [1,2,3]  \n",
    "Output: 2  \n",
    "Explanation: 1 and 2 are counted cause 2 and 3 are in arr.  \n",
    "  \n",
    "Example 2:  \n",
    "Input: arr = [1,1,3,3,5,5,7,7]  \n",
    "Output: 0  \n",
    "Explanation: No numbers are counted, cause there's no 2, 4, 6, or 8 in arr.  \n",
    "  \n",
    "Example 3:  \n",
    "Input: arr = [1,3,2,3,5,0]  \n",
    "Output: 3  \n",
    "Explanation: 0, 1 and 2 are counted cause 1, 2 and 3 are in arr.  \n",
    "  \n",
    "Example 4:  \n",
    "Input: arr = [1,1,2,2]  \n",
    "Output: 2  \n",
    "Explanation: Two 1s are counted cause 2 is in arr.  \n",
    "  "
   ]
  },
  {
   "cell_type": "code",
   "execution_count": 1,
   "metadata": {
    "ExecuteTime": {
     "end_time": "2020-04-08T00:03:21.893214Z",
     "start_time": "2020-04-08T00:03:21.877567Z"
    }
   },
   "outputs": [],
   "source": [
    "def countElements(arr:list) -> int:\n",
    "    unique = set(arr)\n",
    "    total = 0\n",
    "    for i in arr:\n",
    "        if (i+1) in unique:\n",
    "            total += 1\n",
    "    return total"
   ]
  },
  {
   "cell_type": "markdown",
   "metadata": {},
   "source": [
    "**LeetCode 876. Middle of the Linked List**\n",
    "  \n",
    "Given a non-empty, singly linked list with head node head, return a middle node of linked list.  \n",
    "  \n",
    "If there are two middle nodes, return the second middle node.\n",
    "  \n",
    "Example 1:  \n",
    "Input: [1,2,3,4,5]  \n",
    "Output: Node 3 from this list (Serialization: [3,4,5])  \n",
    "The returned node has value 3.  (The judge's serialization of this node is [3,4,5]).  \n",
    "Note that we returned a ListNode object ans, such that:  \n",
    "ans.val = 3, ans.next.val = 4, ans.next.next.val = 5, and ans.next.next.next = NULL.  \n",
    "  \n",
    "Example 2:  \n",
    "Input: [1,2,3,4,5,6]  \n",
    "Output: Node 4 from this list (Serialization: [4,5,6])  \n",
    "Since the list has two middle nodes with values 3 and 4, we return the second one.  \n",
    "\n",
    "[Link](https://leetcode.com/problems/middle-of-the-linked-list/)\n",
    "\n",
    "**Hint** Use two pointers."
   ]
  },
  {
   "cell_type": "code",
   "execution_count": 3,
   "metadata": {
    "ExecuteTime": {
     "end_time": "2020-04-09T01:15:07.422924Z",
     "start_time": "2020-04-09T01:15:07.391722Z"
    }
   },
   "outputs": [],
   "source": [
    "# Definition for singly-linked list.\n",
    "class ListNode:\n",
    "    def __init__(self, x):\n",
    "        self.val = x\n",
    "        self.next = None\n",
    "\n",
    "def middleNode(head: ListNode) -> ListNode:\n",
    "    count = 0\n",
    "    ans = head\n",
    "    while head != None:\n",
    "        head = head.next\n",
    "        count += 1\n",
    "        if count%2 == 0:\n",
    "            ans = ans.next\n",
    "    return ans"
   ]
  },
  {
   "cell_type": "markdown",
   "metadata": {},
   "source": [
    "**LeetCode 844. Backspace String Compare**\n",
    "\n",
    "Given two strings S and T, return if they are equal when both are typed into empty text editors. # means a backspace character.  \n",
    "  \n",
    "Example 1:  \n",
    "Input: S = \"ab#c\", T = \"ad#c\"  \n",
    "Output: true  \n",
    "Explanation: Both S and T become \"ac\".   \n",
    "  \n",
    "Example 2:    \n",
    "Input: S = \"ab##\", T = \"c#d#\"  \n",
    "Output: true  \n",
    "Explanation: Both S and T become \"\".  \n",
    "  \n",
    "Example 3:  \n",
    "Input: S = \"a##c\", T = \"#a#c\"  \n",
    "Output: true  \n",
    "Explanation: Both S and T become \"c\".  \n",
    "  \n",
    "Example 4:  \n",
    "Input: S = \"a#c\", T = \"b\"  \n",
    "Output: false  \n",
    "Explanation: S becomes \"c\" while T becomes \"b\".  \n",
    "\n",
    "[Link](https://leetcode.com/problems/backspace-string-compare/)\n",
    "\n",
    "**Hint 1** Use a helper function to construct a new string based on an input string."
   ]
  },
  {
   "cell_type": "code",
   "execution_count": 2,
   "metadata": {
    "ExecuteTime": {
     "end_time": "2020-04-10T21:44:45.416833Z",
     "start_time": "2020-04-10T21:44:45.385625Z"
    }
   },
   "outputs": [],
   "source": [
    "def helper_func(S: str) -> str:\n",
    "    new_S = ''\n",
    "    for i in S:\n",
    "        if i == '#':\n",
    "            new_S = new_S[0:-1]\n",
    "        else:\n",
    "            new_S += i\n",
    "    return new_S\n",
    "def backspaceCompare(S: str, T: str) -> bool:\n",
    "    return helper_func(S) == helper_func(T)"
   ]
  },
  {
   "cell_type": "markdown",
   "metadata": {},
   "source": [
    "**LeetCode 155. Min Stack**\n",
    "\n",
    "Design a stack that supports push, pop, top, and retrieving the minimum element in constant time.\n",
    "\n",
    "    push(x) -- Push element x onto stack.\n",
    "    pop() -- Removes the element on top of the stack.\n",
    "    top() -- Get the top element.\n",
    "    getMin() -- Retrieve the minimum element in the stack.\n",
    "\n",
    " \n",
    "\n",
    "Example:\n",
    "\n",
    "MinStack minStack = new MinStack();\n",
    "minStack.push(-2);\n",
    "minStack.push(0);\n",
    "minStack.push(-3);\n",
    "minStack.getMin();   --> Returns -3.\n",
    "minStack.pop();\n",
    "minStack.top();      --> Returns 0.\n",
    "minStack.getMin();   --> Returns -2.\n",
    "\n",
    "\n",
    "[Link](https://leetcode.com/problems/min-stack/)\n",
    "\n",
    "**Hint** "
   ]
  },
  {
   "cell_type": "code",
   "execution_count": 7,
   "metadata": {
    "ExecuteTime": {
     "end_time": "2020-04-10T22:05:19.971626Z",
     "start_time": "2020-04-10T22:05:19.940426Z"
    }
   },
   "outputs": [],
   "source": [
    "class MinStack:\n",
    "\n",
    "    def __init__(self):\n",
    "        \"\"\"\n",
    "        initialize your data structure here.\n",
    "        \"\"\"\n",
    "        self.__a = []\n",
    "\n",
    "    def push(self, x: int) -> None:\n",
    "        m = x\n",
    "        if self.__a:\n",
    "            m = self.__a[-1][1]\n",
    "            if m > x:\n",
    "                m = x\n",
    "        self.__a.append((x, m))\n",
    "\n",
    "    def pop(self) -> None:\n",
    "        self.__a.pop()\n",
    "        \n",
    "    def top(self) -> int:\n",
    "        return self.__a[-1][0]\n",
    "\n",
    "    def getMin(self) -> int:\n",
    "        return self.__a[-1][1]"
   ]
  },
  {
   "cell_type": "markdown",
   "metadata": {},
   "source": [
    "**Leetcode 543. Diameter of Binary Tree. Easy**\n",
    "\n",
    "Given a binary tree, you need to compute the length of the diameter of the tree. The diameter of a binary tree is the length of the longest path between any two nodes in a tree. This path may or may not pass through the root.\n",
    "\n",
    "Example:\n",
    "Given a binary tree\n",
    "\n",
    "          1\n",
    "         / \\\n",
    "        2   3\n",
    "       / \\     \n",
    "      4   5    \n",
    "\n",
    "Return 3, which is the length of the path [4,2,1,3] or [5,2,1,3].\n",
    "\n",
    "Note: The length of path between two nodes is represented by the number of edges between them. \n",
    "\n",
    "[Link](https://leetcode.com/problems/diameter-of-binary-tree/)"
   ]
  },
  {
   "cell_type": "code",
   "execution_count": 2,
   "metadata": {
    "ExecuteTime": {
     "end_time": "2020-04-13T00:54:46.075567Z",
     "start_time": "2020-04-13T00:54:46.044326Z"
    }
   },
   "outputs": [],
   "source": [
    "# Definition for a binary tree node.\n",
    "class TreeNode:\n",
    "    def __init__(self, x):\n",
    "        self.val = x\n",
    "        self.left = None\n",
    "        self.right = None\n",
    "\n",
    "\n",
    "def diameterOfBinaryTree(self, root: TreeNode) -> int:\n",
    "    self.diameter = 0\n",
    "    # Helper function that re-assigns the self.diameter attribute as it does a DFS of the tree\n",
    "    def depth(rt):\n",
    "        if rt == None:\n",
    "            return 0\n",
    "        L = depth(rt.left)\n",
    "        R = depth(rt.right)\n",
    "        self.diameter = max(self.diameter, L+R)\n",
    "        return max(L,R)+1\n",
    "    # Call the helper function\n",
    "    depth(root)\n",
    "    # Finally return only the self.diameter attribute\n",
    "    return self.diameter"
   ]
  },
  {
   "cell_type": "markdown",
   "metadata": {},
   "source": [
    "**Leetcode 1046. Last Stone Weight. Easy**\n",
    "\n",
    "We have a collection of stones, each stone has a positive integer weight.\n",
    "\n",
    "Each turn, we choose the two heaviest stones and smash them together.  Suppose the stones have weights x and y with x <= y.  The result of this smash is:\n",
    "\n",
    "    If x == y, both stones are totally destroyed;\n",
    "    If x != y, the stone of weight x is totally destroyed, and the stone of weight y has new weight y-x.\n",
    "\n",
    "At the end, there is at most 1 stone left.  Return the weight of this stone (or 0 if there are no stones left.)\n",
    "\n",
    " \n",
    "\n",
    "Example 1:  \n",
    "Input: [2,7,4,1,8,1]  \n",
    "Output: 1  \n",
    "Explanation:   \n",
    "We combine 7 and 8 to get 1 so the array converts to [2,4,1,1,1] then,  \n",
    "we combine 2 and 4 to get 2 so the array converts to [2,1,1,1] then,  \n",
    "we combine 2 and 1 to get 1 so the array converts to [1,1,1] then,  \n",
    "we combine 1 and 1 to get 0 so the array converts to [1] then that's the value of last stone.  \n",
    "  \n",
    "[Link](https://leetcode.com/problems/last-stone-weight/)\n",
    "\n",
    "**Hint** Simulate the process. We can do it with a heap, or by sorting some list of stones every time we take a turn."
   ]
  },
  {
   "cell_type": "code",
   "execution_count": 26,
   "metadata": {
    "ExecuteTime": {
     "end_time": "2020-04-13T01:19:59.439271Z",
     "start_time": "2020-04-13T01:19:59.407990Z"
    }
   },
   "outputs": [],
   "source": [
    "def lastStoneWeight(stones: list) -> int:\n",
    "    # First define a way to sort the array\n",
    "    def sort(arr):\n",
    "        return sorted(arr,reverse=True)\n",
    "    # Now go through the stones array while smashing stones together\n",
    "    while len(stones) > 1:\n",
    "        stones = sort(stones)\n",
    "        new = stones[0] - stones[1]\n",
    "        if new > 0:\n",
    "            stones[0] = new\n",
    "        else:\n",
    "            stones.pop(0)\n",
    "        stones.pop(1)\n",
    "    # If there is a stone leftover\n",
    "    if len(stones) == 1:\n",
    "        return stones[0]\n",
    "    return 0"
   ]
  },
  {
   "cell_type": "code",
   "execution_count": 32,
   "metadata": {
    "ExecuteTime": {
     "end_time": "2020-04-13T01:31:20.055851Z",
     "start_time": "2020-04-13T01:31:20.024577Z"
    }
   },
   "outputs": [],
   "source": [
    "# Here is a smarter and more efficient approach that doesn't require any sorting\n",
    "def lastStoneWeight(stones: list) -> int:\n",
    "    # First a function to return the weight of the biggest stone\n",
    "    def remove_largest():\n",
    "        index_of_largest = stones.index(max(stones))\n",
    "        # Swap the stone to be removed with the end.\n",
    "        stones[index_of_largest], stones[-1] = stones[-1], stones[index_of_largest]\n",
    "        return stones.pop()\n",
    "    # Now smash together the two biggest stones\n",
    "    while len(stones) > 1:\n",
    "        stone_1 = remove_largest()\n",
    "        stone_2 = remove_largest()\n",
    "        if stone_1 != stone_2:\n",
    "            stones.append(stone_1 - stone_2)\n",
    "    # Return the leftover stone if there is one\n",
    "    return stones[0] if stones else 0"
   ]
  },
  {
   "cell_type": "code",
   "execution_count": 33,
   "metadata": {
    "ExecuteTime": {
     "end_time": "2020-04-13T01:31:33.411687Z",
     "start_time": "2020-04-13T01:31:33.380449Z"
    }
   },
   "outputs": [],
   "source": [
    "# And here is the most efficient solution using heaps\n",
    "import heapq\n",
    "class Solution:\n",
    "    def lastStoneWeight(stones: list) -> int:\n",
    "        new_list = [-x for x in stones]\n",
    "        heapq.heapify(new_list)\n",
    "        while len(new_list) > 1:\n",
    "            y = heapq.heappop(new_list)\n",
    "            x = heapq.heappop(new_list)\n",
    "            if y != x:\n",
    "                heapq.heappush(new_list, y-x)\n",
    "        if len(new_list):\n",
    "            return -heapq.heappop(new_list)\n",
    "        return 0"
   ]
  },
  {
   "cell_type": "markdown",
   "metadata": {},
   "source": [
    "**Leetcode 525. Contiguous Array. Medium**\n",
    "\n",
    "Given a binary array, find the maximum length of a contiguous subarray with equal number of 0 and 1.\n",
    "\n",
    "Example 1:  \n",
    "Input: [0,1]  \n",
    "Output: 2  \n",
    "Explanation: [0, 1] is the longest contiguous subarray with equal number of 0 and 1.  \n",
    "\n",
    "Example 2:  \n",
    "Input: [0,1,0]  \n",
    "Output: 2  \n",
    "Explanation: [0, 1] (or [1, 0]) is a longest contiguous subarray with equal number of 0 and 1.  \n",
    "  \n",
    "[Link](https://leetcode.com/problems/contiguous-array/)"
   ]
  },
  {
   "cell_type": "code",
   "execution_count": 7,
   "metadata": {
    "ExecuteTime": {
     "end_time": "2020-04-14T03:33:44.177694Z",
     "start_time": "2020-04-14T03:33:44.146483Z"
    }
   },
   "outputs": [],
   "source": [
    "# Brute force method. Note this will time out in Leetcode and is O(N^2)\n",
    "def findMaxLength(nums: list) -> int:\n",
    "    max_count = 0\n",
    "    zero_count = 0\n",
    "    one_count = 0\n",
    "    while len(nums) > 1:\n",
    "        for i in nums:\n",
    "            if i == 0:\n",
    "                zero_count += 1\n",
    "            if i == 1:\n",
    "                one_count += 1\n",
    "            if zero_count == one_count:\n",
    "                max_count = max(max_count, (zero_count+one_count))\n",
    "        nums = nums[1:]\n",
    "        zero_count = 0\n",
    "        one_count = 0\n",
    "    return max_count"
   ]
  },
  {
   "cell_type": "code",
   "execution_count": 22,
   "metadata": {
    "ExecuteTime": {
     "end_time": "2020-04-14T04:02:37.784860Z",
     "start_time": "2020-04-14T04:02:37.753624Z"
    }
   },
   "outputs": [],
   "source": [
    "# Here is a more elegant solution.\n",
    "# If you keep track of 1 (by adding 1) and 0 (by subtracting 1), \n",
    "# every time you encounter the same value you have a contiguos array.\n",
    "# Create a dictionary to keep track of the first time you encounter each value.\n",
    "def findMaxLength(nums: list) -> int:\n",
    "    values = {0:-1}\n",
    "    value = 0\n",
    "    max_count = 0\n",
    "    for i,j in enumerate(nums):\n",
    "        if j == 0:\n",
    "            value -= 1\n",
    "        else:\n",
    "            value += 1\n",
    "        # If you saw that value before you might have the longest array\n",
    "        if value in values.keys():\n",
    "            max_count = max(max_count, i-values[value])\n",
    "        # Otherwise keep track of that value for later\n",
    "        else:\n",
    "            values[value] = i\n",
    "    return max_count"
   ]
  },
  {
   "cell_type": "markdown",
   "metadata": {
    "ExecuteTime": {
     "end_time": "2020-04-14T04:02:10.227331Z",
     "start_time": "2020-04-14T04:02:10.196067Z"
    }
   },
   "source": [
    "**Leetcode. Perform String Shifts**\n",
    "\n",
    "You are given a string s containing lowercase English letters, and a matrix shift, where shift[i] = [direction, amount]:  \n",
    "  \n",
    "    direction can be 0 (for left shift) or 1 (for right shift).   \n",
    "    amount is the amount by which string s is to be shifted.  \n",
    "    A left shift by 1 means remove the first character of s and append it to the end.  \n",
    "    Similarly, a right shift by 1 means remove the last character of s and add it to the beginning.  \n",
    "  \n",
    "Return the final string after all operations.  \n",
    "  \n",
    "Example 1:  \n",
    "Input: s = \"abc\", shift = [[0,1],[1,2]]  \n",
    "Output: \"cab\" \n",
    "Explanation:   \n",
    "[0,1] means shift to left by 1. \"abc\" -> \"bca\"  \n",
    "[1,2] means shift to right by 2. \"bca\" -> \"cab\"  \n",
    "\n",
    "Example 2:  \n",
    "Input: s = \"abcdefg\", shift = [[1,1],[1,1],[0,2],[1,3]]  \n",
    "Output: \"efgabcd\"  \n",
    "Explanation:    \n",
    "[1,1] means shift to right by 1. \"abcdefg\" -> \"gabcdef\"  \n",
    "[1,1] means shift to right by 1. \"gabcdef\" -> \"fgabcde\"  \n",
    "[0,2] means shift to left by 2. \"fgabcde\" -> \"abcdefg\"  \n",
    "[1,3] means shift to right by 3. \"abcdefg\" -> \"efgabcd\"  \n",
    "\n",
    "[link](https://leetcode.com/explore/challenge/card/30-day-leetcoding-challenge/529/week-2/3299/)\n",
    "\n",
    "**Hint** There are a couple ways to approach this problem. You can do each string shift one step at a time or sum up all string shifts and do one total shift."
   ]
  },
  {
   "cell_type": "code",
   "execution_count": 43,
   "metadata": {
    "ExecuteTime": {
     "end_time": "2020-04-15T04:44:19.635425Z",
     "start_time": "2020-04-15T04:44:19.619808Z"
    }
   },
   "outputs": [],
   "source": [
    "def stringShift(s: str, shift: list) -> str:\n",
    "    master_shift = 0\n",
    "    direction = 0\n",
    "    # First sum up all the string shifts\n",
    "    for sh in shift:\n",
    "        if sh[0] == 0:\n",
    "            direction = -1\n",
    "        else:\n",
    "            direction = 1\n",
    "        master_shift += direction*sh[1]\n",
    "    print(master_shift)\n",
    "    # Next shift the string according to the sum\n",
    "    while master_shift != 0:\n",
    "        # Shift left if needed\n",
    "        if master_shift < 0:\n",
    "            s = s[1:]+s[0]\n",
    "            master_shift += 1\n",
    "        # Shift Right if needed\n",
    "        if master_shift > 0:\n",
    "            s = s[-1]+s[:-1]\n",
    "            master_shift -= 1\n",
    "    return s"
   ]
  },
  {
   "cell_type": "code",
   "execution_count": null,
   "metadata": {},
   "outputs": [],
   "source": []
  }
 ],
 "metadata": {
  "kernelspec": {
   "display_name": "Python 3",
   "language": "python",
   "name": "python3"
  },
  "language_info": {
   "codemirror_mode": {
    "name": "ipython",
    "version": 3
   },
   "file_extension": ".py",
   "mimetype": "text/x-python",
   "name": "python",
   "nbconvert_exporter": "python",
   "pygments_lexer": "ipython3",
   "version": "3.6.8"
  }
 },
 "nbformat": 4,
 "nbformat_minor": 2
}
